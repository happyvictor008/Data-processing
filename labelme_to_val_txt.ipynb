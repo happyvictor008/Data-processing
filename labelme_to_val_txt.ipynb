{
 "cells": [
  {
   "cell_type": "code",
   "execution_count": 1,
   "metadata": {},
   "outputs": [],
   "source": [
    "import numpy as np\n",
    "import os\n",
    "from collections import defaultdict, OrderedDict\n",
    "import json\n",
    "import pandas as pd"
   ]
  },
  {
   "cell_type": "markdown",
   "metadata": {},
   "source": []
  },
  {
   "cell_type": "code",
   "execution_count": 2,
   "metadata": {},
   "outputs": [],
   "source": [
    "path_to_json = '/home/victor/dataset/val_img/val_label'\n",
    "label_path='/home/victor/dataset/val_img/Label/'\n",
    "#read json file\n",
    "json_files = [pos_json for pos_json in os.listdir(path_to_json) if pos_json.endswith('.json')]\n",
    "\n",
    "jsons_data = pd.DataFrame(columns=['identity','mincol','minrow','maxcol','maxrow'])\n",
    "js =enumerate(json_files)#遍历全部文件\n",
    "\n",
    "#path to save txt labels(always in your trainning images folder)\n",
    "n=1"
   ]
  },
  {
   "cell_type": "code",
   "execution_count": 18,
   "metadata": {},
   "outputs": [],
   "source": [
    "for index, js in enumerate(json_files):#js*index\n",
    "    with open(os.path.join(path_to_json, js)) as json_file:\n",
    "        json_text = json.load(json_file)\n",
    "        imagename = json_text['imagePath'].lstrip('../')\n",
    "        imagename = imagename.replace(' ','')\n",
    "        lenchild=len(json_text['shapes'])\n",
    "        for i in range(0,lenchild):\n",
    "        #print(json_text)\n",
    "            maxcol = json_text['shapes'][i]['points'][1][0]\n",
    "            maxrow = json_text['shapes'][i]['points'][1][1]\n",
    "            mincol = json_text['shapes'][i]['points'][0][0]\n",
    "            minrow = json_text['shapes'][i]['points'][0][1]\n",
    "            identity = json_text['shapes'][i]['label']\n",
    "            jsons_data.loc[n] = [identity,mincol,minrow,maxcol,maxrow]\n",
    "            n=n+1\n",
    "        jsons_data.to_csv(label_path+(imagename.rstrip('.jpg')+'.txt'),header=None, index=False,sep=\" \")\n",
    "    n=1\n",
    "    jsons_data.drop(jsons_data.index,inplace=True)"
   ]
  },
  {
   "cell_type": "code",
   "execution_count": null,
   "metadata": {},
   "outputs": [],
   "source": []
  }
 ],
 "metadata": {
  "kernelspec": {
   "display_name": "Python 3",
   "language": "python",
   "name": "python3"
  },
  "language_info": {
   "codemirror_mode": {
    "name": "ipython",
    "version": 3
   },
   "file_extension": ".py",
   "mimetype": "text/x-python",
   "name": "python",
   "nbconvert_exporter": "python",
   "pygments_lexer": "ipython3",
   "version": "3.7.3"
  }
 },
 "nbformat": 4,
 "nbformat_minor": 2
}
