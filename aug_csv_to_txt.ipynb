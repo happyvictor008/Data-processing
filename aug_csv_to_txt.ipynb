{
 "cells": [
  {
   "cell_type": "code",
   "execution_count": 1,
   "metadata": {},
   "outputs": [],
   "source": [
    "import os\n",
    "import cv2\n",
    "import numpy as np \n",
    "import pandas as pd \n",
    "from tqdm import tqdm \n",
    "from glob import glob\n",
    "from PIL import Image\n",
    "\n",
    "from IPython import embed\n",
    "from image_aug_for_detection.config import config"
   ]
  },
  {
   "cell_type": "code",
   "execution_count": 2,
   "metadata": {},
   "outputs": [],
   "source": [
    "route='/home/victor/dataset/augmen/newimage/new_Newcyclist/'\n",
    "#route='/home/victor/dataset/augmen/Newcyclist/'"
   ]
  },
  {
   "cell_type": "code",
   "execution_count": 3,
   "metadata": {
    "scrolled": true
   },
   "outputs": [],
   "source": [
    "df=pd.read_csv(route+'augmented_label.csv',header= None, sep=',')"
   ]
  },
  {
   "cell_type": "code",
   "execution_count": null,
   "metadata": {},
   "outputs": [],
   "source": []
  },
  {
   "cell_type": "code",
   "execution_count": 4,
   "metadata": {},
   "outputs": [
    {
     "data": {
      "text/plain": [
       "15301"
      ]
     },
     "execution_count": 4,
     "metadata": {},
     "output_type": "execute_result"
    }
   ],
   "source": [
    "line=df.shape[0]\n",
    "line"
   ]
  },
  {
   "cell_type": "code",
   "execution_count": 5,
   "metadata": {},
   "outputs": [
    {
     "data": {
      "text/plain": [
       "'/home/victor/dataset/augmen/newimage/new_Newcyclist/tsinghuaDaimlerDataset_2015-03-20_025811_000048082_leftImg8bit_colored.jpg'"
      ]
     },
     "execution_count": 5,
     "metadata": {},
     "output_type": "execute_result"
    }
   ],
   "source": [
    "df[0][0]"
   ]
  },
  {
   "cell_type": "code",
   "execution_count": 6,
   "metadata": {},
   "outputs": [],
   "source": [
    "aug_data = pd.DataFrame(columns=['label_text','minx','miny','maxx','maxy'])\n",
    "pre_name=' '\n",
    "n=0\n",
    "line=df.shape[0]\n",
    "for i in range(0,line):\n",
    "    filename=df[0][i].split('/')[7]\n",
    "    #filename=df[0][i]\n",
    "    minx=abs(int(df[1][i]))\n",
    "    miny=abs(int(df[2][i]))\n",
    "    maxx=abs(int(df[3][i]))\n",
    "    maxy=abs(int(df[4][i]))\n",
    "    label_text=df[5][i]\n",
    "    if n==0:\n",
    "        aug_data.loc[n]=[label_text,minx,miny,maxx,maxy]\n",
    "        pre_name=filename\n",
    "        n=n+1\n",
    "    elif filename!=pre_name:\n",
    "        aug_data.to_csv(route+pre_name.rstrip('.jpg')+'.txt',header=None, index=False,sep=\" \")\n",
    "        aug_data.drop(aug_data.index,inplace=True)\n",
    "        n=0\n",
    "        aug_data.loc[n]=[label_text,minx,miny,maxx,maxy]\n",
    "        pre_name=filename\n",
    "        n=n+1\n",
    "    else:\n",
    "        aug_data.loc[n]=[label_text,minx,miny,maxx,maxy]\n",
    "        n=n+1\n",
    "        pre_name=filename       \n",
    "aug_data.to_csv(route+pre_name.rstrip('.jpg')+'.txt',header=None, index=False,sep=\" \")"
   ]
  },
  {
   "cell_type": "code",
   "execution_count": null,
   "metadata": {},
   "outputs": [],
   "source": []
  },
  {
   "cell_type": "code",
   "execution_count": null,
   "metadata": {},
   "outputs": [],
   "source": []
  }
 ],
 "metadata": {
  "kernelspec": {
   "display_name": "Python 3",
   "language": "python",
   "name": "python3"
  },
  "language_info": {
   "codemirror_mode": {
    "name": "ipython",
    "version": 3
   },
   "file_extension": ".py",
   "mimetype": "text/x-python",
   "name": "python",
   "nbconvert_exporter": "python",
   "pygments_lexer": "ipython3",
   "version": "3.7.3"
  }
 },
 "nbformat": 4,
 "nbformat_minor": 2
}
