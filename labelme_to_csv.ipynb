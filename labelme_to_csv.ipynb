{
 "cells": [
  {
   "cell_type": "code",
   "execution_count": 1,
   "metadata": {},
   "outputs": [],
   "source": [
    "import numpy as np\n",
    "import os\n",
    "from collections import defaultdict, OrderedDict\n",
    "import json\n",
    "import pandas as pd\n"
   ]
  },
  {
   "cell_type": "code",
   "execution_count": 2,
   "metadata": {},
   "outputs": [],
   "source": [
    "path_to_json = '/home/victor/dataset/segmentation-airplane/Annotations/'\n",
    "label_path='/home/victor/dataset/segmentation-airplane/'\n",
    "#path_to_json = '/home/victor/dataset/augmen/wheelchairuser/wheelchairuser_label'\n",
    "#read json file\n",
    "json_files = [pos_json for pos_json in os.listdir(path_to_json) if pos_json.endswith('.json')]\n",
    "\n",
    "jsons_data = pd.DataFrame(columns=['imagename','mincol','minrow','maxcol','maxrow','identity'])\n",
    "js =enumerate(json_files)#遍历全部文件\n",
    "\n",
    "#path to save txt labels(always in your trainning images folder)\n",
    "n=0"
   ]
  },
  {
   "cell_type": "code",
   "execution_count": 3,
   "metadata": {},
   "outputs": [],
   "source": [
    "for index, js in enumerate(json_files):#js*index\n",
    "    with open(os.path.join(path_to_json, js)) as json_file:\n",
    "        json_text = json.load(json_file)\n",
    "        imagename = json_text['imagePath'].lstrip('../')\n",
    "        imagename = imagename.replace(' ','')\n",
    "        lenchild=len(json_text['shapes'])\n",
    "        for i in range(0,lenchild):\n",
    "        #print(json_text)\n",
    "            maxcol = json_text['shapes'][i]['points'][1][0]\n",
    "            maxrow = json_text['shapes'][i]['points'][1][1]\n",
    "            mincol = json_text['shapes'][i]['points'][0][0]\n",
    "            minrow = json_text['shapes'][i]['points'][0][1]\n",
    "            identity = json_text['shapes'][i]['label']\n",
    "            jsons_data.loc[n] = [imagename.rstrip('.jpg')+'.jpg',mincol,minrow,maxcol,maxrow,identity]\n",
    "            n=n+1\n",
    "jsons_data.to_csv(label_path+'0_dataset'+'.csv',header=None, index=False)\n",
    "jsons_data.drop(jsons_data.index,inplace=True)"
   ]
  },
  {
   "cell_type": "code",
   "execution_count": 1,
   "metadata": {
    "scrolled": true
   },
   "outputs": [],
   "source": [
    "import os\n",
    "import cv2\n",
    "import numpy as np \n",
    "import pandas as pd \n",
    "from tqdm import tqdm \n",
    "from glob import glob\n",
    "from PIL import Image\n",
    "\n",
    "from IPython import embed\n",
    "from image_aug_for_detection.config import config"
   ]
  },
  {
   "cell_type": "code",
   "execution_count": 2,
   "metadata": {},
   "outputs": [
    {
     "name": "stdout",
     "output_type": "stream",
     "text": [
      "100%|█████████████████████████████████████████| 300/300 [00:11<00:00, 27.88it/s]\n"
     ]
    }
   ],
   "source": [
    "!python ./image_aug_for_detection/example.py"
   ]
  },
  {
   "cell_type": "code",
   "execution_count": null,
   "metadata": {},
   "outputs": [],
   "source": []
  }
 ],
 "metadata": {
  "kernelspec": {
   "display_name": "Python 3",
   "language": "python",
   "name": "python3"
  },
  "language_info": {
   "codemirror_mode": {
    "name": "ipython",
    "version": 3
   },
   "file_extension": ".py",
   "mimetype": "text/x-python",
   "name": "python",
   "nbconvert_exporter": "python",
   "pygments_lexer": "ipython3",
   "version": "3.7.3"
  }
 },
 "nbformat": 4,
 "nbformat_minor": 2
}
