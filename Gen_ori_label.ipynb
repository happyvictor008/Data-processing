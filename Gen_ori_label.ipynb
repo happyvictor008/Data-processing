{
 "cells": [
  {
   "cell_type": "code",
   "execution_count": 5,
   "metadata": {},
   "outputs": [],
   "source": [
    "import numpy as np\n",
    "import os\n",
    "from collections import defaultdict, OrderedDict\n",
    "import json\n",
    "import pandas as pd"
   ]
  },
  {
   "cell_type": "code",
   "execution_count": 6,
   "metadata": {},
   "outputs": [],
   "source": [
    "path_to_json_train = '/home/victor/dataset/augmen/Newcyclist/Newcyclist_label/'\n",
    "json_files = [pos_json for pos_json in os.listdir(path_to_json_train) if pos_json.endswith('.json')]\n",
    "jsons_data = pd.DataFrame(columns=['identity','mincol','minrow','maxcol','maxrow'])\n",
    "#path to save txt labels(always in your trainning images folder)\n",
    "label_path='/home/victor/dataset/augmen/Newcyclist/Label/'\n",
    "path_to_json=path_to_json_train\n",
    "##read json file\n",
    "\n",
    "#path_to_json_val = '/home/victor/dataset/cyclist/tsinghua_val/val_label'\n",
    "#json_files = [pos_json for pos_json in os.listdir(path_to_json_val) if pos_json.endswith('.json')]\n",
    "#jsons_data = pd.DataFrame(columns=['identity','mincol','minrow','maxcol','maxrow'])\n",
    "#label_path='/home/victor/dataset/cyclist/tsinghua_val/Label/'\n",
    "\n",
    "#path_to_json=path_to_json_val\n",
    "js =enumerate(json_files)#遍历全部文件\n",
    "n=1\n"
   ]
  },
  {
   "cell_type": "code",
   "execution_count": 7,
   "metadata": {},
   "outputs": [],
   "source": [
    "m=0\n",
    "t=0\n",
    "w=0\n",
    "mo = 0\n",
    "cy=0\n",
    "pds=0\n",
    "car=0\n",
    "bus=0\n",
    "truck=0\n",
    "amb=0"
   ]
  },
  {
   "cell_type": "code",
   "execution_count": 9,
   "metadata": {
    "scrolled": true
   },
   "outputs": [],
   "source": [
    "for index, js in enumerate(json_files):#js*index\n",
    "    with open(os.path.join(path_to_json, js)) as json_file:\n",
    "        json_text = json.load(json_file)\n",
    "        lenchild=len(json_text['shapes'])\n",
    "        imagename = json_text['imagePath']\n",
    "        #imagename = json_text['imagename'].rstrip('.png')\n",
    "        #print(json_text)\n",
    "        for i in range(0,lenchild):\n",
    "            if json_text['shapes'][i]['label'] == 'mopedrider':\n",
    "                m=m+1\n",
    "                identity = 'motorcyclist'\n",
    "            if json_text['shapes'][i]['label'] == 'tricyclist':\n",
    "                t=t+1\n",
    "                identity = json_text['shapes'][i]['label']\n",
    "            if json_text['shapes'][i]['label'] == 'wheelchairuser':\n",
    "                w=w+1\n",
    "                identity = json_text['shapes'][i]['label']\n",
    "            if json_text['shapes'][i]['label'] == 'motorcyclist':\n",
    "                mo=mo+1\n",
    "                identity = json_text['shapes'][i]['label']\n",
    "            if json_text['shapes'][i]['label'] == 'cyclist':\n",
    "                cy=cy+1\n",
    "                identity = json_text['shapes'][i]['label']\n",
    "            if json_text['shapes'][i]['label'] == 'pedestrian':\n",
    "                pds=pds+1\n",
    "                identity = 'person'\n",
    "            if json_text['shapes'][i]['label'] == 'Car':\n",
    "                car=car+1\n",
    "                identity = 'Car'\n",
    "            if json_text['shapes'][i]['label'] == 'Bus':\n",
    "                bus=bus+1\n",
    "                identity = 'Bus'\n",
    "            if json_text['shapes'][i]['label'] == 'Truck':\n",
    "                truck=truck+1\n",
    "                identity = 'Truck'\n",
    "            if json_text['shapes'][i]['label'] == 'Ambulance':\n",
    "                amb=amb+1\n",
    "                identity = 'Ambulance'\n",
    "            maxcol = abs(int(json_text['shapes'][i]['points'][1][0]))\n",
    "            maxrow = abs(int(json_text['shapes'][i]['points'][1][1]))\n",
    "            mincol = abs(int(json_text['shapes'][i]['points'][0][0]))\n",
    "            minrow = abs(int(json_text['shapes'][i]['points'][0][1]))\n",
    "            jsons_data.loc[n] = [identity,mincol,minrow,maxcol,maxrow]#mincol=x\n",
    "            n=n+1;\n",
    "    jsons_data.to_csv(label_path+(imagename.rstrip('.png')+'.txt'),header=None, index=False,sep=\" \")\n",
    "    jsons_data.drop(jsons_data.index,inplace=True)\n",
    "    n=1\n",
    "#save txt file in [class, mincol(LF), minrow,maxcol,maxrow] to label path"
   ]
  },
  {
   "cell_type": "code",
   "execution_count": null,
   "metadata": {},
   "outputs": [],
   "source": []
  },
  {
   "cell_type": "code",
   "execution_count": null,
   "metadata": {},
   "outputs": [],
   "source": []
  }
 ],
 "metadata": {
  "kernelspec": {
   "display_name": "Python 3",
   "language": "python",
   "name": "python3"
  },
  "language_info": {
   "codemirror_mode": {
    "name": "ipython",
    "version": 3
   },
   "file_extension": ".py",
   "mimetype": "text/x-python",
   "name": "python",
   "nbconvert_exporter": "python",
   "pygments_lexer": "ipython3",
   "version": "3.7.3"
  }
 },
 "nbformat": 4,
 "nbformat_minor": 2
}
